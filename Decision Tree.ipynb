{
  "nbformat": 4,
  "nbformat_minor": 0,
  "metadata": {
    "colab": {
      "private_outputs": true,
      "provenance": [],
      "cell_execution_strategy": "setup",
      "authorship_tag": "ABX9TyPAryT94CxM+1LaE2pax6Nw",
      "include_colab_link": true
    },
    "kernelspec": {
      "name": "python3",
      "display_name": "Python 3"
    },
    "language_info": {
      "name": "python"
    }
  },
  "cells": [
    {
      "cell_type": "markdown",
      "metadata": {
        "id": "view-in-github",
        "colab_type": "text"
      },
      "source": [
        "<a href=\"https://colab.research.google.com/github/Rohitbachchhe17/Decision-Tree/blob/main/Decision%20Tree.ipynb\" target=\"_parent\"><img src=\"https://colab.research.google.com/assets/colab-badge.svg\" alt=\"Open In Colab\"/></a>"
      ]
    },
    {
      "cell_type": "markdown",
      "source": [
        "# Import Libraries"
      ],
      "metadata": {
        "id": "vdCH5E-6NBmm"
      }
    },
    {
      "cell_type": "code",
      "source": [
        "import pandas as pd\n",
        "import numpy as np\n",
        "import matplotlib.pyplot as plt"
      ],
      "metadata": {
        "id": "vm1Ymij_NL05"
      },
      "execution_count": null,
      "outputs": []
    },
    {
      "cell_type": "markdown",
      "source": [
        "# Load the dataset"
      ],
      "metadata": {
        "id": "dDLC67NGNljt"
      }
    },
    {
      "cell_type": "code",
      "source": [
        "dataset = pd.read_csv('/content/IceCreamData.csv')\n",
        "X = dataset['Temperature'].values\n",
        "y = dataset['Revenue'].values\n",
        "dataset.head(5)"
      ],
      "metadata": {
        "id": "BD3WNoNJOU7B"
      },
      "execution_count": null,
      "outputs": []
    },
    {
      "cell_type": "markdown",
      "source": [
        "# Splitting the dataset into the Training set and Test set"
      ],
      "metadata": {
        "id": "iAzNlLGGQd7i"
      }
    },
    {
      "cell_type": "code",
      "source": [
        "from sklearn.model_selection import train_test_split\n",
        "X_train, X_test, y_train, y_test = train_test_split(X, y, test_size = 0.05)"
      ],
      "metadata": {
        "id": "novAGPhsPg2i"
      },
      "execution_count": null,
      "outputs": []
    },
    {
      "cell_type": "markdown",
      "source": [
        "# Fitting the decision tree"
      ],
      "metadata": {
        "id": "Ttn_DEl_PrOU"
      }
    },
    {
      "cell_type": "code",
      "source": [
        "# Fitting Decision Tree Regression to the dataset\n",
        "from sklearn.tree import DecisionTreeRegressor\n",
        "regressor = DecisionTreeRegressor()"
      ],
      "metadata": {
        "id": "TL344DF8Puwj"
      },
      "execution_count": null,
      "outputs": []
    },
    {
      "cell_type": "code",
      "source": [
        "regressor.fit(X_train.reshape(-1,1), y_train.reshape(-1,1))\n",
        "y_pred = regressor.predict(X_test.reshape(-1,1))\n",
        "y_pred\n",
        "df = pd.DataFrame({'Real Values':y_test.reshape(-1), 'Predicted Values':y_pred.reshape(-1)})\n",
        "df"
      ],
      "metadata": {
        "id": "Ck2pivVNQ6Ys"
      },
      "execution_count": null,
      "outputs": []
    },
    {
      "cell_type": "markdown",
      "source": [
        "# Visualization Decision Tree"
      ],
      "metadata": {
        "id": "HyLS0nVlP6lq"
      }
    },
    {
      "cell_type": "code",
      "source": [
        "# Visualising the Decision Tree Regression Results\n",
        "X_grid = np.arange(min(X), max(X), 0.01)\n",
        "X_grid = X_grid.reshape((len(X_grid), 1))\n",
        "plt.scatter(X_test, y_test, color = 'red')\n",
        "plt.scatter(X_test, y_pred, color = 'green')\n",
        "plt.title('Decision Tree Regression')\n",
        "plt.xlabel('Temperature')\n",
        "plt.ylabel('Revenue')\n",
        "plt.show()"
      ],
      "metadata": {
        "id": "U14oyVI3Py3m"
      },
      "execution_count": null,
      "outputs": []
    },
    {
      "cell_type": "code",
      "source": [
        "plt.plot(X_grid, regressor.predict(X_grid), color = 'black')\n",
        "plt.title('Decision Tree Regression')\n",
        "plt.xlabel('Temperature')\n",
        "plt.ylabel('Revenue')\n",
        "plt.show()"
      ],
      "metadata": {
        "id": "ACYQkC78QADs"
      },
      "execution_count": null,
      "outputs": []
    },
    {
      "cell_type": "code",
      "source": [
        "\n",
        "# arange for creating a range of values\n",
        "# from min value of X to max value of X\n",
        "# with a difference of 0.01 between two\n",
        "# consecutive values\n",
        "X_grid = np.arange(min(X), max(X), 0.01)\n",
        "\n",
        "# reshape for reshaping the data into\n",
        "# a len(X_grid)*1 array, i.e. to make\n",
        "# a column out of the X_grid values\n",
        "X_grid = X_grid.reshape((len(X_grid), 1))\n",
        "\n",
        "# scatter plot for original data\n",
        "plt.scatter(X, y, color = 'red')\n",
        "\n",
        "# plot predicted data\n",
        "plt.plot(X_grid, regressor.predict(X_grid), color = 'blue')\n",
        "# specify title\n",
        "plt.title('Profit to Production Cost (Decision Tree Regression)')\n",
        "\n",
        "# specify X axis label\n",
        "plt.xlabel('Production Cost')\n",
        "\n",
        "# specify Y axis label\n",
        "plt.ylabel('Profit')\n",
        "\n",
        "# show the plot\n",
        "plt.show()"
      ],
      "metadata": {
        "id": "ADZHLBnXShyq"
      },
      "execution_count": null,
      "outputs": []
    },
    {
      "cell_type": "code",
      "source": [
        "!pip install graphviz"
      ],
      "metadata": {
        "id": "sEDx3vcgUVre"
      },
      "execution_count": null,
      "outputs": []
    },
    {
      "cell_type": "code",
      "source": [
        "from sklearn.datasets import load_iris\n",
        "from sklearn.tree import DecisionTreeClassifier, export_graphviz\n",
        "import graphviz\n",
        "\n",
        "# Load the Iris dataset\n",
        "iris = load_iris()\n",
        "X = iris.data\n",
        "y = iris.target\n",
        "\n",
        "# Train a decision tree classifier\n",
        "clf = DecisionTreeClassifier()\n",
        "clf.fit(X, y)\n",
        "\n",
        "# Export the decision tree as a DOT file\n",
        "dot_data = export_graphviz(clf, out_file=None,\n",
        "                           feature_names=iris.feature_names,\n",
        "                           class_names=iris.target_names,\n",
        "                           filled=True, rounded=True,\n",
        "                           special_characters=True)\n",
        "\n",
        "# Visualize the decision tree\n",
        "graph = graphviz.Source(dot_data)\n",
        "graph.render('decision_tree', format='jpg', cleanup=True)"
      ],
      "metadata": {
        "id": "OAJtPITkUaez"
      },
      "execution_count": null,
      "outputs": []
    },
    {
      "cell_type": "code",
      "source": [
        "# Export the decision tree as a DOT file\n",
        "dot_data = export_graphviz(regressor, out_file= None,\n",
        "                           feature_names=['Temperature'])\n",
        "\n",
        "# Visualize the decision tree within the notebook\n",
        "graph = graphviz.Source(dot_data)\n",
        "graph"
      ],
      "metadata": {
        "id": "nD0J7ic7WGkW"
      },
      "execution_count": null,
      "outputs": []
    }
  ]
}